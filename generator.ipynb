{
 "cells": [
  {
   "cell_type": "code",
   "execution_count": 1,
   "metadata": {},
   "outputs": [
    {
     "name": "stderr",
     "output_type": "stream",
     "text": [
      "UsageError: Line magic function `%git` not found.\n"
     ]
    }
   ],
   "source": [
    "!git clone https://github.com/openai/CLIP\n",
    "%pip install taming-transformers\n",
    "!git clone https://github.com/CompVis/taming-transformers.git\n",
    "%pip install ftfy regex tqdm omegaconf pytorch-lightning\n",
    "%pip install kornia\n",
    "%pip install imageio-ffmpeg   \n",
    "%pip install einops          \n",
    "!mkdir steps"
   ]
  }
 ],
 "metadata": {
  "kernelspec": {
   "display_name": "Python 3.10.6 ('venv': venv)",
   "language": "python",
   "name": "python3"
  },
  "language_info": {
   "codemirror_mode": {
    "name": "ipython",
    "version": 3
   },
   "file_extension": ".py",
   "mimetype": "text/x-python",
   "name": "python",
   "nbconvert_exporter": "python",
   "pygments_lexer": "ipython3",
   "version": "3.10.6"
  },
  "orig_nbformat": 4,
  "vscode": {
   "interpreter": {
    "hash": "9eb879a2c96094c4439705617790f9871e3760b1e5b7c383af22fee7e1856c68"
   }
  }
 },
 "nbformat": 4,
 "nbformat_minor": 2
}
